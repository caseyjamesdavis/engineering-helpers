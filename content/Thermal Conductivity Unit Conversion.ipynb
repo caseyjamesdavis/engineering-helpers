{
 "cells": [
  {
   "cell_type": "code",
   "execution_count": 1,
   "metadata": {
    "jupyter": {
     "source_hidden": true
    }
   },
   "outputs": [
    {
     "name": "stdout",
     "output_type": "stream",
     "text": [
      "Checking if Pint is installed...\n",
      "Pint is installed and ready!\n"
     ]
    }
   ],
   "source": [
    "try:\n",
    "    print(\"Checking if Pint is installed...\")\n",
    "    from pint import UnitRegistry\n",
    "\n",
    "except:\n",
    "    print(\"Pint is not installed.\")\n",
    "    print(\"Installing using pip magic command - this may take a few moments...\")\n",
    "    %pip -v install pint\n",
    "    from pint import UnitRegistry\n",
    "\n",
    "finally:\n",
    "    print(\"Pint is installed and ready!\")\n",
    "    p = UnitRegistry(autoconvert_offset_to_baseunit = True)\n",
    "    p.default_format = '.4f~P'"
   ]
  },
  {
   "cell_type": "code",
   "execution_count": 6,
   "metadata": {},
   "outputs": [
    {
     "name": "stdout",
     "output_type": "stream",
     "text": [
      "137.0000 Btu/ft/h/Δ°F\n",
      "237.1107 W/K/m\n"
     ]
    }
   ],
   "source": [
    "k = 137 * (p.BTU / p.ft / p.hr / p.delta_degF)\n",
    "\n",
    "print(k)\n",
    "print(k.to(p.W/p.m/p.K))"
   ]
  }
 ],
 "metadata": {
  "hide_input": false,
  "kernelspec": {
   "display_name": "Python 3 (ipykernel)",
   "language": "python",
   "name": "python3"
  },
  "language_info": {
   "codemirror_mode": {
    "name": "ipython",
    "version": 3
   },
   "file_extension": ".py",
   "mimetype": "text/x-python",
   "name": "python",
   "nbconvert_exporter": "python",
   "pygments_lexer": "ipython3",
   "version": "3.11.7"
  }
 },
 "nbformat": 4,
 "nbformat_minor": 4
}
